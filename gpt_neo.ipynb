{
 "cells": [
  {
   "cell_type": "markdown",
   "id": "3c05bb50-b2b6-46aa-9775-f97552ab16ce",
   "metadata": {},
   "source": [
    "## Exploring Finetuning an GPT NEO model \n",
    "\n",
    "Download pretrained gpt neo model and finetune it on our own dataset. In this case crawled 2 datasets from google searches of 'Question and Answering System' and 'Home Team Science and Technology Agency' model is finetuned on text of the top results of the google search (see web_crawler.ipynb). "
   ]
  },
  {
   "cell_type": "code",
   "execution_count": 1,
   "id": "ba1e61b8-bd45-435f-9b51-54244c916888",
   "metadata": {},
   "outputs": [],
   "source": [
    "import logging\n",
    "logging.basicConfig(\n",
    "        format=\"%(asctime)s — %(levelname)s — %(name)s — %(message)s\",\n",
    "        datefmt=\"%m/%d/%Y %H:%M:%S\",\n",
    "        level=logging.INFO\n",
    "    )\n",
    "\n",
    "from aitextgen import aitextgen"
   ]
  },
  {
   "cell_type": "code",
   "execution_count": 11,
   "id": "27bfb388-a585-4a49-965f-c3cd144c0dea",
   "metadata": {
    "tags": []
   },
   "outputs": [
    {
     "name": "stderr",
     "output_type": "stream",
     "text": [
      "10/28/2021 16:09:49 — INFO — aitextgen — Loading EleutherAI/gpt-neo-125M model from /aitextgen.\n",
      "10/28/2021 16:09:53 — INFO — aitextgen — Using the tokenizer for EleutherAI/gpt-neo-125M.\n",
      "loading file https://huggingface.co/EleutherAI/gpt-neo-125M/resolve/main/vocab.json from cache at aitextgen\\08c00c4159e921d4c941ac75732643373aba509d9b352a82bbbb043a94058d98.a552555fdda56a1c7c9a285bccfd44ac8e4b9e26c8c9b307831b3ea3ac782b45\n",
      "loading file https://huggingface.co/EleutherAI/gpt-neo-125M/resolve/main/merges.txt from cache at aitextgen\\12305762709d884a770efe7b0c68a7f4bc918da44e956058d43da0d12f7bea20.5d12962c5ee615a4c803841266e9c3be9a691a924f72d395d3a6c6c81157788b\n",
      "loading file https://huggingface.co/EleutherAI/gpt-neo-125M/resolve/main/tokenizer.json from cache at None\n",
      "loading file https://huggingface.co/EleutherAI/gpt-neo-125M/resolve/main/added_tokens.json from cache at None\n",
      "loading file https://huggingface.co/EleutherAI/gpt-neo-125M/resolve/main/special_tokens_map.json from cache at aitextgen\\6c3239a63aaf46ec7625b38abfe41fc2ce0b25f90800aefe6526256340d4ab6d.2b8bf81243d08385c806171bc7ced6d2a0dcc7f896ca637f4e777418f7f0cc3c\n",
      "loading file https://huggingface.co/EleutherAI/gpt-neo-125M/resolve/main/tokenizer_config.json from cache at aitextgen\\3cc88b3aa29bb2546db2dc21783292e2a086bb7158c7b5ceddeb24158a85c183.e74f7c3643ee79eb023ead36008be72fe726dada60fa3b2a0569925cfefa1e74\n",
      "10/28/2021 16:10:05 — INFO — aitextgen — GPTNeo loaded with 125M parameters.\n"
     ]
    }
   ],
   "source": [
    "ai_blank = aitextgen(model=\"EleutherAI/gpt-neo-125M\", to_gpu=True)"
   ]
  },
  {
   "cell_type": "code",
   "execution_count": 12,
   "id": "745fbd37-6937-4747-a1e7-4235ac808350",
   "metadata": {
    "collapsed": true,
    "jupyter": {
     "outputs_hidden": true
    },
    "tags": []
   },
   "outputs": [
    {
     "name": "stdout",
     "output_type": "stream",
     "text": [
      "\u001b[1mA Question and Answering System is\u001b[0m an application programming environment with a vast, rapidly growing library of applications available for free to users of Windows. The main application is a Linux operating system, which can be run in a graphical user interface.\n",
      "The user can choose from a variety of ways to interact with the application, such as by browsing or editing the application. In the example in the above paragraph, a computer that runs Windows can be a graphical user interface.\n",
      "In a system using a Windows operating system, a user can also browse the user's computer. In this case, it is possible to obtain the file name of the computer running the operating system and use the file name as a control for the computer.\n",
      "However, the file name can be obtained by a combination of the command line command line arguments of the operating system running the computer. Thus, if the file name is to be searched by a program running in the computer, it is possible to obtain the file name by the command line argument of the operating system running the computer.\n",
      "When a user makes a search for a file name by using a search command, it is possible to obtain the file name by using the command line argument of the operating system running the computer.\n",
      "In this case, the user can type a file name into the search command of the computer and get the file name by searching the file name in the search command, thereby obtaining a file name.\n",
      "If the file name is obtained by searching the file\n",
      "==========\n",
      "\u001b[1mA Question and Answering System is\u001b[0m a way to help people to get answers to their questions, or to find answers. They also can be used for searching for the word you are trying to find and for writing a solution, or for getting suggestions. If you don't know what to search for, read this book, The Good Word: Finding a Good, the Good Stuff: Getting Ideas from Google Books, and this chapter of The Good Word: Finding a Good is on your to-read list!\n",
      "\n",
      "Q. How do I get a \"Best Searcher?\" answer from my website?\n",
      "\n",
      "A. I have found several useful answers, and some good. I have only found one that answers my questions.\n",
      "\n",
      "2. When to use the good word\n",
      "\n",
      "The good word is the way we should know a better way.\n",
      "\n",
      "I’m going to look at two words that are commonly used in Google search. The first is “what is good for me” and the second is “what is I looking for”. In the following example, I will use the word “what” as a search term.\n",
      "\n",
      "Example: I searched for “how to make a gift for a good friend” and found “how to make a gift for a good friend”.\n",
      "\n",
      "The other word I’m using is “best practice.”\n",
      "\n",
      "“What is good for me\n",
      "==========\n",
      "\u001b[1mA Question and Answering System is\u001b[0m very easy to ask! Just open your browser and go to the left side of the page.\n",
      "\n",
      "What do you do?\n",
      "\n",
      "Hello, I’m Michael.\n",
      "\n",
      "Do I use a desktop or web browser?\n",
      "\n",
      "Yes.\n",
      "\n",
      "What’s the problem?\n",
      "\n",
      "I don’t want to see the site from my computer in real time. This is how I do things in a normal user’s web browser.\n",
      "\n",
      "Why?\n",
      "\n",
      "When you see a webpage, it will automatically open it in a text editor and will take you to your page.\n",
      "\n",
      "How do I do it?\n",
      "\n",
      "You need to open your browser and go to the left side of the page.\n",
      "\n",
      "Do you like reading?\n",
      "\n",
      "Yes, I do!\n",
      "\n",
      "How does a browser work?\n",
      "\n",
      "Chrome browser does it all, it’s just that the browser isn’t the way that I would like it to be, the web browser is the way to go.\n",
      "\n",
      "How do I do this?\n",
      "\n",
      "Don’t worry about it.\n",
      "\n",
      "In case you’ve already read this in a few minutes, you’ll find it easy to do:\n",
      "\n",
      "On the left side of the page, go to the web address of the website and click on ‘View the web address’ button.\n",
      "\n",
      "On the right\n",
      "==========\n",
      "\u001b[1mA Question and Answering System is\u001b[0m the answer to many of the question’s most important questions. For instance, let’s say a person with a few questions asked to answer, they are going to answer, so to speak, an average of 2/10 for a hypothetical question and 2/10 for a real one, that is, a real question for a real person. The answer is 4/10 for 2/10, the question is 2/10 for a real person, or 3/10 for a real person with a few questions. Thus, there are 8/10 answers for this question. Then there are 12/10 for the real one, a real question for a real person, or 3/10 for a real person with a few questions.\n",
      "\n",
      "A person answering 10 questions asked to answer or to answer questions asked to answer questions asked to answer questions asked to answer questions asked to answer questions asked to answer questions asked to answer questions asked to answer questions asked to answer questions asked to answer questions asked to answer questions asked to answer questions asked to answer questions asked to answer questions asked to answer questions asked to answer questions asked to answer questions asked to answer questions asked to answer questions asked to answer questions asked to answer questions asked to answer questions asked to answer questions asked to answer questions asked to answer questions asked to answer questions asked to answer questions asked to answer questions asked to answer questions asked to answer questions asked to answer questions asked to answer questions asked to answer\n",
      "==========\n",
      "\u001b[1mA Question and Answering System is\u001b[0m a software tool developed for the computer science and engineering community to assist in providing the answers to research questions that students may be asked.\n",
      "\n",
      "There are two ways to complete the question and answering system. The first is to open a question by asking what the answer is, a new question to the first answer by a new question. The second method is to open and close the question, which allows you to get a new answer on a more familiar, complete question. A new question is more appropriate for the given context, such as in your own research, or for some other context.\n",
      "\n",
      "The main goal of the question and answering system is to help you find the answers you need. By taking a step back and saying \"yes,\" you have taken the first step in getting the question right.\n",
      "\n",
      "How can I use my own answer to my own questions\n",
      "\n",
      "The following is the example of a test case that I am working on, so the following is a simplified example of what I want to achieve.\n",
      "\n",
      "How can I use my own answer to my own questions.\n",
      "\n",
      "My Answer\n",
      "\n",
      "What is the answer to this question?\n",
      "\n",
      "It is a question. The questions are based on the following two things:\n",
      "\n",
      "The answer to the question will not be accurate, but you should use a proper and correct answer.\n",
      "\n",
      "The question will be accurate.\n",
      "\n",
      "The answer to the question will not\n"
     ]
    }
   ],
   "source": [
    "ai_blank.generate(n=5,\n",
    "            batch_size=5,\n",
    "            prompt=\"A Question and Answering System is\",\n",
    "            max_length=300,\n",
    "            temperature=1.0,\n",
    "            top_p=0.9)"
   ]
  },
  {
   "cell_type": "code",
   "execution_count": 2,
   "id": "2df6e4d5-76fe-4b6d-ac43-d6c54aed2be1",
   "metadata": {},
   "outputs": [
    {
     "name": "stderr",
     "output_type": "stream",
     "text": [
      "10/28/2021 16:46:54 — INFO — aitextgen — Loading EleutherAI/gpt-neo-125M model from /aitextgen.\n",
      "10/28/2021 16:46:57 — INFO — aitextgen — Using the tokenizer for EleutherAI/gpt-neo-125M.\n",
      "loading file https://huggingface.co/EleutherAI/gpt-neo-125M/resolve/main/vocab.json from cache at aitextgen\\08c00c4159e921d4c941ac75732643373aba509d9b352a82bbbb043a94058d98.a552555fdda56a1c7c9a285bccfd44ac8e4b9e26c8c9b307831b3ea3ac782b45\n",
      "loading file https://huggingface.co/EleutherAI/gpt-neo-125M/resolve/main/merges.txt from cache at aitextgen\\12305762709d884a770efe7b0c68a7f4bc918da44e956058d43da0d12f7bea20.5d12962c5ee615a4c803841266e9c3be9a691a924f72d395d3a6c6c81157788b\n",
      "loading file https://huggingface.co/EleutherAI/gpt-neo-125M/resolve/main/tokenizer.json from cache at None\n",
      "loading file https://huggingface.co/EleutherAI/gpt-neo-125M/resolve/main/added_tokens.json from cache at None\n",
      "loading file https://huggingface.co/EleutherAI/gpt-neo-125M/resolve/main/special_tokens_map.json from cache at aitextgen\\6c3239a63aaf46ec7625b38abfe41fc2ce0b25f90800aefe6526256340d4ab6d.2b8bf81243d08385c806171bc7ced6d2a0dcc7f896ca637f4e777418f7f0cc3c\n",
      "loading file https://huggingface.co/EleutherAI/gpt-neo-125M/resolve/main/tokenizer_config.json from cache at aitextgen\\3cc88b3aa29bb2546db2dc21783292e2a086bb7158c7b5ceddeb24158a85c183.e74f7c3643ee79eb023ead36008be72fe726dada60fa3b2a0569925cfefa1e74\n",
      "10/28/2021 16:47:09 — INFO — aitextgen — GPTNeo loaded with 125M parameters.\n"
     ]
    }
   ],
   "source": [
    "ai = aitextgen(model=\"EleutherAI/gpt-neo-125M\", to_gpu=True)"
   ]
  },
  {
   "cell_type": "code",
   "execution_count": 3,
   "id": "6f0c6413-1645-4601-8969-68a26e334af7",
   "metadata": {},
   "outputs": [],
   "source": [
    "filename = 'qa_articles.csv' #getting alot of spurious output because of the dataset "
   ]
  },
  {
   "cell_type": "code",
   "execution_count": 4,
   "id": "5d66840b-17b2-4111-8f9b-a8d7cf42d744",
   "metadata": {
    "tags": []
   },
   "outputs": [
    {
     "name": "stderr",
     "output_type": "stream",
     "text": [
      "10/28/2021 15:25:01 — INFO — aitextgen — Loading text from qa_sample.csv with generation length of 2048.\n"
     ]
    },
    {
     "data": {
      "application/vnd.jupyter.widget-view+json": {
       "model_id": "ba81664b326748449556a555cccda57f",
       "version_major": 2,
       "version_minor": 0
      },
      "text/plain": [
       "  0%|                                                                                           | 0/66 [00:00<…"
      ]
     },
     "metadata": {},
     "output_type": "display_data"
    },
    {
     "name": "stderr",
     "output_type": "stream",
     "text": [
      "10/28/2021 15:25:01 — INFO — aitextgen.TokenDataset — Encoding 66 rows from qa_sample.csv.\n",
      "Token indices sequence length is longer than the specified maximum sequence length for this model (5327 > 2048). Running this sequence through the model will result in indexing errors\n",
      "10/28/2021 15:25:01 — WARNING — aitextgen — Windows does not support multi-GPU training. Setting to 1 GPU.\n",
      "10/28/2021 15:25:01 — INFO — pytorch_lightning.utilities.distributed — GPU available: True, used: True\n",
      "10/28/2021 15:25:01 — INFO — pytorch_lightning.utilities.distributed — TPU available: False, using: 0 TPU cores\n",
      "10/28/2021 15:25:01 — INFO — pytorch_lightning.utilities.distributed — IPU available: False, using: 0 IPUs\n",
      "10/28/2021 15:25:01 — INFO — pytorch_lightning.accelerators.gpu — LOCAL_RANK: 0 - CUDA_VISIBLE_DEVICES: [0]\n"
     ]
    },
    {
     "data": {
      "application/vnd.jupyter.widget-view+json": {
       "model_id": "fc3fe5ce3727482ab7853fbb42534121",
       "version_major": 2,
       "version_minor": 0
      },
      "text/plain": [
       "  0%|                                                                                         | 0/3000 [00:00<…"
      ]
     },
     "metadata": {},
     "output_type": "display_data"
    },
    {
     "name": "stdout",
     "output_type": "stream",
     "text": [
      "\u001b[1m1,000 steps reached: saving model to /trained_model\u001b[0m\n",
      "\u001b[1m1,000 steps reached: generating sample texts.\u001b[0m\n",
      "==========\n",
      " 47 Association for Conversational Question Answering Association for Computational Question Answering Association for Computational Question Answering Association of Computational Question Answering Association of Computational Question Answering Association of Computational Question Answering Association of Computational Question Answering Association of Computational Question Answering Association of Computational Question Answering Association of Computational Question Answering Association of Computational Question Answering Association of Computational Question Answering Association of Computational Question Answering Association of Computational Question Answering Association of Learning Representations Association of Computational Question Answering Association of Computational Question Answering Association of Computational Question Answering Association of Computational Question Answering Association of Computational Question Answering Association of Computational Question Answering Association of Computational Question Answering Association of Computational Question Answering Association of Computational Question Answering Association of Computational Question Answering Association of Natural Language Processing Information Processing Processing NLP Association for Computational Linguistics Barcelona https www aclweb org anthology N18 1162 Accessed 15 Oct 2019 Download citation Received online https www aclweb org anthology N18 1162 Accessed 15 Oct 2019 To send this message to\n",
      "==========\n",
      "\u001b[1m2,000 steps reached: saving model to /trained_model\u001b[0m\n",
      "\u001b[1m2,000 steps reached: generating sample texts.\u001b[0m\n",
      "==========\n",
      " is to be extensive with the capability of process data accessible by the intelligent interface QA data can be prepared in a ways that can be technical and easily understood by a technical analysis of the entire QA domain can be seen in the following prototype deployed model where each token in a sequence attends to a local neighborhood facilitating local food locally In the diagrams the sentence which is the most relevant part of the document is revealed a huge blood Example of CNN deployed model where each token in the model attends to a local neighborhood facilitating local food locally In the diagrams the sentence which is the most relevant part of the document is the context There are V words in all the passages involved where y is the ground truth answer to the question which is the why passage to the passage z_k in North America Before the z_k the answer to the question is identified by a visualization library made for open domain QA which is a tool for open domain QA In the image below a a VGGNet for instance which is a visualization library for open domain QA which is a tool for works such as Bag of Words BOW or DistilBERT which are a tool for visualizing tool E g MLM visualization library for open domain QA In N a LSTM model is used to LST\n",
      "==========\n",
      "\u001b[1m3,000 steps reached: saving model to /trained_model\u001b[0m\n",
      "\u001b[1m3,000 steps reached: generating sample texts.\u001b[0m\n",
      "==========\n",
      " p D 4 F D v u2C n S q C ߩ N7 uJ j r S T H 2 c E cs ڮ c X w P G cO K2 uA 1 X2 SpiQ 3F N1 R Z GsH KsC KsC KsC KsC KsC KsC KsC KsC KsC KsC KsC KsC KsC KsC KsC KsC KsC KsC KsC KsC KsC KsC KsC KsC KsC KsC KsC KsC KsC KsC KsC KsO x Vl P q5 M O 2 9 D w M 4 O w 8 M W z q4 M u K X Ge v Uث Wb v Uث Wb v Uث Wb v Uث Wb v Uث Wb v Uث Wb v UتG M c2 ث Wb v Uث Wb v Uث Wb v Uث Wb v Uث Wb v U�\n",
      "==========\n"
     ]
    },
    {
     "name": "stderr",
     "output_type": "stream",
     "text": [
      "10/28/2021 15:56:39 — INFO — aitextgen — Saving trained model pytorch_model.bin to /trained_model\n"
     ]
    }
   ],
   "source": [
    "ai.train(filename,\n",
    "         line_by_line=True,\n",
    "         from_cache=False,\n",
    "         num_steps=3000,\n",
    "         generate_every=1000,\n",
    "         save_every=1000,\n",
    "         save_gdrive=False,\n",
    "         learning_rate=1e-3,\n",
    "         fp16=False,\n",
    "         batch_size=1, \n",
    "         )"
   ]
  },
  {
   "cell_type": "code",
   "execution_count": 5,
   "id": "2a5d59f4-fbab-4aa2-901b-20a0e81c5489",
   "metadata": {},
   "outputs": [
    {
     "name": "stderr",
     "output_type": "stream",
     "text": [
      "10/28/2021 15:57:39 — INFO — aitextgen — Loading model from provided weights and config in /trained_model.\n",
      "10/28/2021 15:57:41 — INFO — aitextgen — GPTNeo loaded with 125M parameters.\n",
      "10/28/2021 15:57:41 — INFO — aitextgen — Using the default GPT-2 Tokenizer.\n"
     ]
    }
   ],
   "source": [
    "ai_test = aitextgen(model_folder=\"trained_model\", to_gpu=True) #trained model on qa saved - or just call ai directly after training "
   ]
  },
  {
   "cell_type": "code",
   "execution_count": 8,
   "id": "6a84b27d-be57-4239-a7a4-266d7aab01de",
   "metadata": {},
   "outputs": [
    {
     "name": "stdout",
     "output_type": "stream",
     "text": [
      "is the semantic overlap between what we know the question asked and what we are trying to find out there In the general even synthetic questions may be very understandable and we should not be able to guess the correct answer However our observation that for almost all of the dataset it contains many questions and answers and the second reason is we have not identified the correct answer Since we have no control on the target of the model it is possible none of the answers we are getting from the system even with the ELI5 dataset it is possible even humans would have trouble comprehending answers in some cases and the ORQA dataset only has not added the correct answer to our final answer On the other hand it is possible even humans would have trouble comprehending answers in some cases and the ORQA dataset described here tops the public leaderboard for reasoning in terms of difficulty Fig 1 Overview of our reinforced experiment results and our experiment results followed by the following results From the results weigs 6 and and and7 7 GPU version of BERT with sklearn wrapper is our choice since we are fast to label data faster with respect to provide a more accurate answer R6 However for speed of learning we should choose this dimension as we go with the c REALM of sentence then take it out the� path since we\n"
     ]
    }
   ],
   "source": [
    "ai_test.generate() #without the question and answering prompt "
   ]
  },
  {
   "cell_type": "code",
   "execution_count": 9,
   "id": "9fa209e7-70bb-45bc-98b3-9d6cce9cd080",
   "metadata": {
    "tags": []
   },
   "outputs": [
    {
     "name": "stdout",
     "output_type": "stream",
     "text": [
      "\u001b[1mA Question and Answering System is\u001b[0m classified into an Open domain Question Answering System and Closed domain Question Answering System 24 The open domain question answering systems like 10 17 can handle nearly any questions based on world knowledge This type of Question Answering System has access to more data to extract the answer The closed domain question answering systems are domain specific 2 9 45 Closed domain question answering systems answers from either a pre structured database or the collection of domain specific natural language documents According to the studies 32 33 the human accuracy of answering the question is 89 45 and the state of the art Question Answering System s accuracy is 93 01 Although system accuracy exceeds human accuracy such a Question Answering System lacks reasoning power as humans it is very limited we discover several troubling trends with the ELI5 dataset 31 The 1 1 in Simvastatin it includes 50 000 abstract cartoon images There are several works using goldraining and fine tuning for identify accurate answers The stability of the model means that it can be adapted to a target domain based question answering system with only yes no answers The authors model the market of BERTU5 by using an understandable but not really bigram search engine to derive the right answer The question answering systems on which BERTU5 is fine tuned is fine tuned on target data without a heavy hyperparameter search Hyperparameters are characteristics of a neural network such as the number of layers of the model which are often determined through matrix Analysis The stability of our model means that it\n",
      "==========\n",
      "\u001b[1mA Question and Answering System is\u001b[0m classified into an Open domain Question Answering System and Closed domain Question Answering System 24 The open domain question answering systems like 10 17 can handle nearly any questions based on world knowledge This type of Question Answering System has access to more data to extract the answer The closed domain question answering systems are domain specific 2 9 45 Closed domain question answering systems answers from either a pre structured database or the collection of domain specific natural language documents According to the studies 32 33 the human accuracy of answering the question is 89 45 and the state of the art Question Answering System s accuracy is 93 01 Although system accuracy exceeds human accuracy such a Question Answering System lacks reasoning power as humans it is very limited when COMP is given a question and a natural language question The question accuracy is limited when answering the question is less trivial For example Who was the first to demonstrate that GPS could be used to detect seismic waves Google isn t of much help when answering this question The other way to do this is by using a distilanguage model to solve the MRC problem The this model is pretrained on a single corpus of documents produced by the U S National Library of Medicine and the resulting answer is given below We call this retriever question answering system Questions Answering Complex Open domain QuestionsCased QA DBpedia and Freebase are becoming better at going up by answering the question The building of such models is a very tough job The real time consuming part of the\n",
      "==========\n",
      "\u001b[1mA Question and Answering System is\u001b[0m classified into two major tasks open domain in which go beyond usual search engines and closed domain in which go beyond usual search engines and closed domain in which go beyond usual search engines and closed domain in which go beyond usual search engines and closed domain in which go beyond usual Expert search engines and closed domain in which go beyond usual Expert search engines and closed domain in which go beyond usual Expert search engines and closed domain in which go beyond usual Expert search engines and closed domain in which go beyond usual Expert search engines and closed domain in which go beyond usual Expert search engines and closed domain in which go beyond usual Expert search engines and closed domain in which go beyond usual Expert search engines and closed domain in which go beyond usual Expert search engines and closed domain in which go beyond usual Expert search engines and closed domain in which go beyond usual Expert search engines and closed domain in which go beyond usual Expert search engines and closed domain in which go beyond usual Expert search engines and closed domain in which go beyond usual Expert search engines and closed domain in which go beyond usual Expert search engines and closed domain in which go beyond usual Expert search engines and closed domain in which go beyond usual Expert search engines and closed domain in which go beyond usual Expert search engines and closed domain in which go beyond usual Expert search engines and closed domain in which go beyond usual Expert search engines and closed domain in which go beyond usual Expert search engines and closed domain in which go beyond usual Expert search engines and closed domain in which\n",
      "==========\n",
      "\u001b[1mA Question and Answering System is\u001b[0m classified into an Open domain Question Answering System and Closed domain Question Answering System 24 The open domain question answering systems like 10 17 can handle nearly any questions based on world knowledge This type of Question Answering System has access to more data to extract the answer The closed domain question answering systems are domain specific 2 9 45 Closed domain question answering systems answers from either a pre structured database or the collection of domain specific natural language documents According to the studies 32 33 the human accuracy of answering the question is 89 45 and the state of the art Question Answering System s accuracy is 93 01 Although system accuracy exceeds human accuracy such a Question Answering System lacks reasoning power as humans it is not necessary GPT3 Brown et al propose a Question Answering system that is built off of a knowledge base to identify new questions and return their answers The existing question answering systems cannot identify whether the questions are answerable questions or unanswerable and irrelevant questions The limitation of the Question Answering System is that it generates the correct answer to a question The question answering system is required to produce relevant correct and complete answers to the questions and documents that are currently answered In this paper we propose an Intelligent Humanoid Robot Generation System called BERT based Question Answering System Rest of the Springer Nature Shared Task proposed by 4 Springer Nature remains neutral with regard to jurisdictional claims in published maps and institutional affiliations Open Domain question answering systems Do not hesitate to mention the\n",
      "==========\n",
      "\u001b[1mA Question and Answering System is\u001b[0m classified into an Open domain Question Answering System and Closed domain Question Answering System 24 The open domain question answering systems like 10 17 can handle nearly any questions based on world knowledge This type of Question Answering System has access to more data to extract the answer The closed domain question answering systems are domain specific 2 9 45 Closed domain question answering systems answers from either a pre structured database or the collection of domain specific natural language documents According to the studies 32 33 the human accuracy of answering the question is 89 45 and the difference in accuracy on SQuAD 1 1 achieves 80 6 87 3 respectively YjQA and QA are considered as an approach to Question Answering System Rest of the paper is organized as follows Section 2 presents the related work that has been done QA domain for English Bangla QA Section 3 discusses the variants of BERT models we have variants of BERT models we have applied in the following sections In Section 4 we discuss the variants of BERT models we have built and evaluated models on a Bengali question answering task Section 5 tests the variants of BERT models we have built and evaluated models on a Bengali question answering task Section 6 discusses the variants of BERT models we have built and evaluated models on a Bengali question answering task Section 7 discuss the variants of BERT models we have built and evaluated models on a human annotated dataset Section 8 6 reported the results and experimental results of the models on the\n"
     ]
    }
   ],
   "source": [
    "ai_test.generate(n=5,\n",
    "            batch_size=5,\n",
    "            prompt=\"A Question and Answering System is\",\n",
    "            max_length=300,\n",
    "            temperature=1.0,\n",
    "            top_p=0.9)"
   ]
  },
  {
   "cell_type": "markdown",
   "id": "1faf05e0-adc5-48d3-a0f7-1820a5d3e6bb",
   "metadata": {},
   "source": [
    "## Trying with text about HTX "
   ]
  },
  {
   "cell_type": "code",
   "execution_count": 13,
   "id": "c2dd1bc0-3707-4ed5-8c22-50b1fe4a2f12",
   "metadata": {
    "tags": []
   },
   "outputs": [
    {
     "name": "stdout",
     "output_type": "stream",
     "text": [
      "\u001b[1mThe Home Team Science and Technology Agency is\u001b[0m a partnership among a number of leading home builders and developers.\n",
      "\n",
      "The Science and Technology Agency is the largest engineering agency in the United States. In 2015, the Agency’s business division was awarded the “CSC-12.”\n",
      "\n",
      "This year, the Agency has been ranked by the Business Times as one of the most effective business organizations in the country.\n",
      "\n",
      "The Agency’s science and technology business division is led by an engineering program manager (and vice-president) who leads the Science and Technology Agency’s business division.\n",
      "\n",
      "The Science and Technology Agency’s science and technology office is located in the office of the Executive Director.\n",
      "\n",
      "The Agency’s Science and Technology Agency is a one-and-a-half hour drive from Houston, Texas.\n",
      "\n",
      "This drive is part of the Agency’s “Science and Technology Week,” which is scheduled for Saturday, February 10 and Sunday, February 13.\n",
      "\n",
      "The Science and Technology Week aims to increase business development and business opportunities in America and abroad by working with local leaders and institutions in the fields of energy and natural resources, as well as other strategic initiatives.\n",
      "\n",
      "The Agency’s Science and Technology Week was created by the Science and Technology Agency and is designed to give business leaders the opportunity to share in the activities they’re engaged in.\n",
      "\n",
      "The Science and Technology Week brings together\n",
      "==========\n",
      "\u001b[1mThe Home Team Science and Technology Agency is\u001b[0m committed to helping people learn and use technologies to improve their lives. This year, we will be sharing more about the Science and Technology Agency’s STEM activities for the next 12 to 18 months.\n",
      "\n",
      "We will be using a technology-based tool called STEM, which you can learn by following these links below:\n",
      "\n",
      "Ships a mobile app for the home in the U.S.\n",
      "\n",
      "Learn more about the STEM initiative\n",
      "\n",
      "Ships the world’s first online community\n",
      "\n",
      "Get your STEM education delivered directly to your house, without having to pay for any special programs, equipment or technology. It takes just a few clicks of your smartphone and you get a beautiful screen full of amazing images and ideas!\n",
      "\n",
      "To read about the STEM initiative, follow these links:\n",
      "\n",
      "Ships the U.S. home\n",
      "\n",
      "Get your STEM education delivered directly to your home\n",
      "\n",
      "Take your STEM education delivered directly to your home\n",
      "\n",
      "Ships the U.S. home\n",
      "\n",
      "Learn more about the STEM initiative\n",
      "\n",
      "Follow these links:\n",
      "\n",
      "Ships the U.S. home\n",
      "\n",
      "Get your STEM education delivered directly to your home\n",
      "\n",
      "Learn more about the STEM initiative\n",
      "\n",
      "Follow these links:\n",
      "\n",
      "Take your STEM education delivered directly to your home\n",
      "\n",
      "Get your STEM education delivered directly to your home\n",
      "\n",
      "Take your STEM education delivered directly to your home\n",
      "\n",
      "Take your STEM education delivered directly\n",
      "==========\n",
      "\u001b[1mThe Home Team Science and Technology Agency is\u001b[0m proud to welcome a full-time Senior Science and Technology Advisor for its latest research and development and the launch of the Home Team Science & Technology Agreements with the world-class world-class biotechnology company, BioTherapeutics. Dr. Zawiszewski, Chief Scientist and Head of Product Management at BioTherapeutics, will join a Team Research Laboratory for development of the Home Team Agreements. This team is a collaboration among the BioTherapeutics Agreements, BioTherapeutics Technology Agency, BioTherapeutics Biotech Technology Agency and the International Scientific and Technological Conference to advance the progress of our Agreements by creating a highly effective and comprehensive infrastructure, a network of collaborators and a dynamic collaboration network. The full-time academic career of Dr. Zawiszewski, will be continued at the BioTherapeutics Research Laboratory at the University of Washington, Washington, USA, from January 7-July 2, 2017.\n",
      "==========\n",
      "\u001b[1mThe Home Team Science and Technology Agency is\u001b[0m a leading authority for the improvement of the science of home improvement. The agency is part of the Science and Technology Agency (SthTA), the umbrella group of the SthTA, the UK, Ireland and the USA and is chaired by Professor Robert Meegan, Vice Chairman.\n",
      "\n",
      "The SthTA works closely with the National Science Foundation (NSF) in its efforts to achieve the Millennium Development Goals in partnership with the Government of the UK, to strengthen education, and to promote a more inclusive environment, with a goal to be achieved by the end of 2030. The SthTA is the leading UK authority for the improvement of science and technology in the UK and is part of the UK Science and Technology Agency.\n",
      "\n",
      "The Science and Technology Agency (STA) is an independent body for science and technology.\n",
      "\n",
      "The Department of Science and Technology (DST) is a part of the DST, part of the Department of the Environment and Climate Change, part of the Department of Transport, part of the Department of Science and Technology, part of the Department of Energy and Climate Change and part of the Department of Transport.\n",
      "\n",
      "The Department of Science and Technology is responsible for scientific research, design, development, and implementation of the technology of science.\n",
      "\n",
      "The Science and Technology Agency (STA) is responsible for the management of the agency’s scientific and technical staff, and for the development and implementation of the science\n",
      "==========\n",
      "\u001b[1mThe Home Team Science and Technology Agency is\u001b[0m the largest research and technology advisory agency of the country, and our goal is to make the most of all technology in the U.S. and the world, as well as the most important innovation in research, and the most useful knowledge. We are also committed to helping develop the best science, technology, and technology systems available to our users.\n",
      "\n",
      "As the most powerful computer system, the home-based data system, is built to be the most reliable, reliable and flexible platform to share and share data. The home-based system, while being the most reliable, is still not a universal, universal data-driven system. It is an important part of the home-based system to keep track of every aspect of the home-based data and to monitor when a system's data changes. Data-driven systems are usually classified into the following three categories: (1) systems that provide data storage and access; (2) systems that allow data storage and processing; and (3) systems that allow data retrieval from a home-based data server. In the home-based system, data storage and processing are performed by using an on-board storage, data-storage, or on-line storage device such as a computer or an electronic device, typically a computer system. In a home-based system, a data storage device (e.g., a computer or electronic device) can be configured to store data or to process data. The data\n"
     ]
    }
   ],
   "source": [
    "ai_blank.generate(n=5,\n",
    "            batch_size=5,\n",
    "            prompt=\"The Home Team Science and Technology Agency is\",\n",
    "            max_length=300,\n",
    "            temperature=1.0,\n",
    "            top_p=0.9)"
   ]
  },
  {
   "cell_type": "code",
   "execution_count": 3,
   "id": "393ee6a7-fab4-4771-9708-f3b8dd50d32e",
   "metadata": {
    "tags": []
   },
   "outputs": [
    {
     "name": "stderr",
     "output_type": "stream",
     "text": [
      "10/28/2021 16:49:18 — INFO — aitextgen — Loading text from htx_articles.csv with generation length of 2048.\n"
     ]
    },
    {
     "data": {
      "application/vnd.jupyter.widget-view+json": {
       "model_id": "6dab14af8fee452f87888532c41e3206",
       "version_major": 2,
       "version_minor": 0
      },
      "text/plain": [
       "  0%|                                                                                           | 0/59 [00:00<…"
      ]
     },
     "metadata": {},
     "output_type": "display_data"
    },
    {
     "name": "stderr",
     "output_type": "stream",
     "text": [
      "10/28/2021 16:49:18 — INFO — aitextgen.TokenDataset — Encoding 59 rows from htx_articles.csv.\n",
      "Token indices sequence length is longer than the specified maximum sequence length for this model (4968 > 2048). Running this sequence through the model will result in indexing errors\n",
      "10/28/2021 16:49:18 — WARNING — aitextgen — Windows does not support multi-GPU training. Setting to 1 GPU.\n",
      "10/28/2021 16:49:18 — INFO — pytorch_lightning.utilities.distributed — GPU available: True, used: True\n",
      "10/28/2021 16:49:18 — INFO — pytorch_lightning.utilities.distributed — TPU available: False, using: 0 TPU cores\n",
      "10/28/2021 16:49:18 — INFO — pytorch_lightning.utilities.distributed — IPU available: False, using: 0 IPUs\n",
      "10/28/2021 16:49:18 — INFO — pytorch_lightning.accelerators.gpu — LOCAL_RANK: 0 - CUDA_VISIBLE_DEVICES: [0]\n"
     ]
    },
    {
     "data": {
      "application/vnd.jupyter.widget-view+json": {
       "model_id": "7259fac1c00b4bfab80641de968ce0f9",
       "version_major": 2,
       "version_minor": 0
      },
      "text/plain": [
       "  0%|                                                                                         | 0/3000 [00:00<…"
      ]
     },
     "metadata": {},
     "output_type": "display_data"
    },
    {
     "name": "stdout",
     "output_type": "stream",
     "text": [
      "\u001b[1m1,000 steps reached: saving model to /trained_model\u001b[0m\n",
      "\u001b[1m1,000 steps reached: generating sample texts.\u001b[0m\n",
      "==========\n",
      " the Ministry of Home Affairs MHA is aiming to set up a Home Team Science and Technology Agency MHA by the end of 2019 said Second Minister Lee Hsien Loong at the HTX Office of Commerce on Monday Mr Chew Hock Yong Lee said at the HTX s launch event on Monday Mr Lee said Desmond Tan Tan Rising sea levels and violent flooding are already putting tens of millions of lives at risk in Bangladesh but they bring another problem that threatens to others parts of the world Waterfront Park Connector Administrative Brief Introduction of the Police Beacon and SGX has been set up to look into the drug situation at the national level The Singapore Police Force SPF is commanded by the Director who inaugurated the Police Beacon office by 2002 equipped with drones robots and artificial intelligence A smartwork station is used to send real time alerts to uniformed counterparts to ensure they are not disobeying Covid 19 safety protocols smoking in prohibited areas or parking bicycles improperly The Police Beacon aims to leverage the Police s operations to accelerate and provide a Singapore Civil Defence Force s response to meet Civil Defence Force s request to accelerate the development of drones by collecting aerial data broadcast data and gaining aerial data The current pace of the manpower is about 1 00pm The current manpower needs to manpower to manpower to manpower\n",
      "==========\n",
      "\u001b[1m2,000 steps reached: saving model to /trained_model\u001b[0m\n",
      "\u001b[1m2,000 steps reached: generating sample texts.\u001b[0m\n",
      "==========\n",
      " and promoted treatments scientists said were ineffective Portugal s parliament rejected the government s budget on Wednesday for the first time since democracy was installed in the 1970 s pushing the country towards early elections The leaders also realised the pragmatic approach towards early elections The leaders also realised the value of being attached to the right roles at the right times With theLeading new elections opportunities for students in under the binary male or female categories explained that the country has tried hard to gather the best fit Reach out directly with real time validated email and phone numbers and take it to the next step by creating personal use templates that integrate with your existing email provider Organize your contacts with fully customizable lists and integrate with your existing CRM or ATS for seamless workflow Learn about your hirees behavior and see who s opened clicked and replied to these emails all within the monitor Email format of the country and with your unique email format and Access to real time validated email format and non English decode emails with fully customizable lists Plus you should also realised that by developing your contacts with fully customizable lists and integrate with your existing CRM or ATS for seamless workflow Learn about your hirees behavior and see who s opened clicked and replied to these emails all within the monitor Email format of the country and your email format of the month U S workers have\n",
      "==========\n",
      "\u001b[1m3,000 steps reached: saving model to /trained_model\u001b[0m\n",
      "\u001b[1m3,000 steps reached: generating sample texts.\u001b[0m\n",
      "==========\n",
      " is the first step in our long term partnership with the African Union We would like to thank the African Union and the White House for helping to make this possible said Stéphane Bancel Chief Executive Officer of Moderna We are committed to Stagwell s creation of a technologically enhanced force equipped with drones robots and artificial intelligence A short showcase featured a future Singapore with officers aided by robots and systems that are able to quickly process large amounts of information and identify threats flagging them and then assisting the officers to neutralise them To achieve this vision HTX scientists and engineers will work with officers on the ground to develop the use of such technology some of which is already being deployed An exhibition featured several such technologies including bio inspired robots for search and rescue missions the first successful construction of their technical partners said the ambition is to realise a smarter swifter and stronger Home Team powered by HTX solutions He exhibition several Prime Minister Lee Hsien Loong at the HTX exhibition yesterday October 2 2021 HTX scientists and engineers will work on industry relevant AI problems since they will be co advised by an IIT Delhi professor and a researcher from the sponsoring company All students with an undergraduate degree in science or engineering will be eligible for the MINDS programme According to a news report the MINDS curriculum will\n",
      "==========\n"
     ]
    },
    {
     "name": "stderr",
     "output_type": "stream",
     "text": [
      "10/28/2021 17:20:56 — INFO — aitextgen — Saving trained model pytorch_model.bin to /trained_model\n"
     ]
    }
   ],
   "source": [
    "ai.train('htx_articles.csv', #retrain ai on htx articles instead \n",
    "         line_by_line=True,\n",
    "         from_cache=False,\n",
    "         num_steps=3000,\n",
    "         generate_every=1000,\n",
    "         save_every=1000,\n",
    "         save_gdrive=False,\n",
    "         learning_rate=1e-3,\n",
    "         fp16=False,\n",
    "         batch_size=1, \n",
    "         )\n",
    "\n"
   ]
  },
  {
   "cell_type": "code",
   "execution_count": 4,
   "id": "5a115725-2156-40e9-8d37-d2fc046a29c0",
   "metadata": {},
   "outputs": [
    {
     "name": "stdout",
     "output_type": "stream",
     "text": [
      "AI system to look for anything that may require human officers response To enable the machines to navigate the city autonomously they re fitted with sensors that give them the ability to avoid both stationary and moving objects including pedestrians and vehicles Singapore already announced its plans to double the number of its surveillance cameras to 200 000 over the next decade Officials believe these robots can help augment those surveillance measures further though and reduce the need for officers to do physical patrols Please enter a valid email address\n"
     ]
    }
   ],
   "source": [
    "ai.generate() #without the HTX prompt "
   ]
  },
  {
   "cell_type": "code",
   "execution_count": 11,
   "id": "031c40a1-5587-4760-935b-60cf9c19b99a",
   "metadata": {
    "tags": []
   },
   "outputs": [
    {
     "name": "stdout",
     "output_type": "stream",
     "text": [
      "\u001b[1mThe Home Team Science and Technology Agency is\u001b[0m the world s first Science and Technology agency that integrates a diverse range of scientific and engineering capabilities to innovate and deliver transformative and operationally ready solutions for homeland security How can you utilise your skills to contribute to our joint mission to safeguard Singapore Hear it is an agency of excellence within government sharing your experiences and solutions with other agencies that have similar needs for instance in enforcement or regulatory work I am glad that agencies like MOM Customs and CPIB have already approached HTX to work together Finally let me wish HTX all the very best I look forward to seeing HTX make its mark as a key member of the Home Team as a leading science and technology agency for homeland security and as a force multiplier for Singapore X marks the spot Congratulations once again to HTX and the Home Team on this milestone May HTX long be as unconventional and indeed as X ceptional as your acronym Thank you Explore recent content Speech Press Release Speech Explore related topics 2021 Government of Singapore Last updated on 3 December 2019 TOP\n",
      "==========\n",
      "\u001b[1mThe Home Team Science and Technology Agency is\u001b[0m the world s first Science and Technology agency that integrates a diverse range of scientific and engineering capabilities to innovate and deliver transformative and operationally ready solutions for homeland security How can you utilise your skills to contribute to our joint mission to safeguard Singapore Hear it is an agency of excellence within government sharing your experiences and solutions with other agencies that have similar needs for instance in enforcement or regulatory work I am glad that agencies like MOM Customs and CPIB have already approached HTX to work together Finally let me wish HTX all the very best I look forward to seeing HTX make its mark as a key member of the Home Team as a leading science and technology agency for homeland security and as a force multiplier for Singapore X marks the spot Congratulations once again to HTX and the Home Team on this milestone May HTX long be as unconventional and indeed as X ceptional as your acronym Thank you Explore recent content Speech Press Release Speech Explore related topics 2021 Government of Singapore Last updated on 3 December 2019 TOP\n",
      "==========\n",
      "\u001b[1mThe Home Team Science and Technology Agency is\u001b[0m the world s first Science and Technology agency that integrates a diverse range of scientific and engineering capabilities to innovate and deliver transformative and operationally ready solutions for homeland security How can you utilise your skills to contribute to our joint mission to safeguard Singapore Hear it is an agency of excellence within government sharing your experiences and solutions with other agencies that have similar needs for instance in enforcement or regulatory work I am glad that agencies like MOM Customs and CPIB have already approached HTX to work together Finally let me wish HTX all the very best I look forward to seeing HTX make its mark as a key member of the Home Team as a leading science and technology agency for homeland security and as a force multiplier for Singapore X marks the spot Congratulations once again to HTX and the Home Team on this milestone May HTX long be as unconventional and indeed as X ceptional as your acronym Thank you Explore recent content Speech Press Release Speech Explore related topics 2021 Government of Singapore Last updated on 3 December 2019 TOP\n",
      "==========\n",
      "\u001b[1mThe Home Team Science and Technology Agency is\u001b[0m the world s first Science and Technology agency that integrates a diverse range of scientific and engineering capabilities to innovate and deliver transformative and operationally ready solutions for homeland security How can you utilise your skills to contribute to our joint mission to safeguard Singapore Hear it is an agency of excellence within government sharing your experiences and solutions with other agencies that have similar needs for instance in enforcement or regulatory work I am glad that agencies like MOM Customs and CPIB have already approached HTX to work together Finally let me wish HTX all the very best I look forward to seeing HTX make its mark as a key member of the Home Team as a leading science and technology agency for homeland security and as a force multiplier for Singapore X marks the spot Congratulations once again to HTX and the Home Team on this milestone May HTX long be as unconventional and indeed as X ceptional as your acronym Thank you Explore recent content Speech Press Release Speech Explore related topics 2021 Government of Singapore Last updated on 3 December 2019 TOP\n",
      "==========\n",
      "\u001b[1mThe Home Team Science and Technology Agency is\u001b[0m the world s first Science and Technology agency that integrates a diverse range of scientific and engineering capabilities to innovate and deliver transformative and operationally ready solutions for homeland security How can you utilise your skills to contribute to our joint mission to safeguard Singapore Hear it is an agency of excellence within government sharing your experiences and solutions with other agencies that have similar needs for instance in enforcement or regulatory work I am glad that agencies like MOM Customs and CPIB have already approached HTX to work together Finally let me wish HTX all the very best I look forward to seeing HTX make its mark as a key member of the Home Team as a leading science and technology agency for homeland security and as a force multiplier for Singapore X marks the spot Congratulations once again to HTX and the Home Team on this milestone May HTX long be as unconventional and indeed as X ceptional as your acronym Thank you Explore recent content Speech Press Release Speech Explore related topics 2021 Government of Singapore Last updated on 3 December 2019 TOP\n"
     ]
    }
   ],
   "source": [
    "ai.generate(n=5,\n",
    "            batch_size=5,\n",
    "            prompt=\"The Home Team Science and Technology Agency is\",\n",
    "            max_length=300,\n",
    "            temperature=1.0,\n",
    "            num_beams = 2, \n",
    "            repetition_penalty = 1.5, #added repetition penalty and no repeat ngram because model was initially giving very repetitive results \n",
    "            no_repeat_ngram_size =4,\n",
    "            top_p=0.9)"
   ]
  },
  {
   "cell_type": "code",
   "execution_count": 10,
   "id": "f20b1cfc-6579-41d5-a239-0c74905b8b03",
   "metadata": {
    "tags": []
   },
   "outputs": [
    {
     "name": "stdout",
     "output_type": "stream",
     "text": [
      "\u001b[1mHTX is transforming\u001b[0m the number of deployment locations across the island said LCP NSF Mahadhir The selection of the new deployment locations is based on historical data Locations nearer to places with higher call loads will be given a higher priority which means we will deploy more ambulances to that area Before his posting to TFTX Mahadhir was still exploring his career options It was during his stint with TFTX currently has 1 3000 staff and aims to increase its headcount to 2 000 The Singapore s PM also added that the agency looks to attract talents from the science technology engineering and math sectors He explained that the government is working towards building tech capabilities and hiring high calibre officers who can provide technical solutions for operational requirements Photo courtesy PM Lee Facebook page \n",
      "==========\n",
      "\u001b[1mHTX is transforming\u001b[0m the careers of engineers to study how they impact society are there different roles that the public sector needs to take up in this digital age those are some of the tough questions I want to tackle back in school What has been your fondest memory from the past year Seeing Prime Minister Lee Hsien Loong launch HTX with a super cool hologram show The whole launch event was really a statement of ambition to be a force multiplier using technology The science and tech agency ultimately aims to conduct transformative research in areas such as biometrics smart sensors and robotics to bring together capabilities from different Home Team departments and build partnerships with external players To produce solutions that serve real operation needs HTX would need to attract top engineering talent noted PM Lee The initial team at HTX will consist of 1 300 science and technology officers from various Home Team departments but it aims to expand to around 2 000 officers According to PM Lee HTX is currently structuring engineering jobs and responsibilities to enable engineers to do valuable work and make an impact in the public service To attract top tier talent they must feel there is something worthwhile that they can achieve he added As a whole PM Lee said that the Government is making an effort to be tech savvy and recruit high calibre officers who can provide technical solutions for operational requirements In the last decade or so PM Lee noted that the Home Team has helped to develop forensics capabilities trialling unmanned surface vessels to patrol waters and automating immigration clearance at checkpoints Beyond the Home Team HTX can be\n",
      "==========\n",
      "\u001b[1mHTX is transforming\u001b[0m the careers of engineers to study how they impact society are there different roles that the public sector needs to take up in this digital age those are some of the tough questions I want to tackle back in school What has been your fondest memory from the past year Seeing Prime Minister Lee Hsien Loong launch HTX with a super cool hologram show The whole launch event was really a statement of ambition to be a force multiplier using technology The science and tech agency ultimately aims to conduct transformative research in areas such as biometrics smart sensors and robotics to bring together capabilities from different Home Team departments and build partnerships with external players To produce solutions that serve real operation needs HTX would need to attract top engineering talent noted PM Lee The initial team at HTX will consist of 1 300 science and technology officers from various Home Team departments but it aims to expand to around 2 000 officers According to PM Lee HTX is currently structuring engineering jobs and responsibilities to enable engineers to do valuable work and make an impact in the public service To attract top tier talent they must feel there is something worthwhile that they can achieve he added As a whole PM Lee said that the Government is making an effort to be tech savvy and recruit high calibre officers who can provide technical solutions for operational requirements In the last decade or so PM Lee noted that the Home Team has helped to develop forensics capabilities trialling unmanned surface vessels to patrol waters and automating immigration clearance at checkpoints Beyond the Home Team HTX can be\n",
      "==========\n",
      "\u001b[1mHTX is transforming\u001b[0m the number of deployment locations across the island said Teo The selection of the new deployment locations is based on historical data Locations nearer to places with higher call loads will be given a higher priority which means we will deploy more ambulances to that area Before his posting to TFTD LCP NS Mahadhir was still exploring his career options It was during his stint with TFTD that he developed a keen interest in computer science He is now planning to pursue a degree in computer science after serving his full time National Service Engineering is gearing towards the use of automated systems and big data analysis Python and Excel are vital software skills to have if you want to pursue a career in Engineering or Computer Science Hence the skills and knowledge we learn here in TFTD help us to think like data scientists and prepare us well for our future pursuits in our studies and career development capabilities The Home Team keeps Singapore safe and secure Each of our 11 Home Team agencies has a specific role but we all share a common mission working together as one Home Team many of which is not only enforces but also helps Apart from investigation work CNB officers also administer a supervision programme which helps ex drug offenders stay clean and well For Mian Rong what motivates her is the daily opportunities to do impactful research that will lead to the development of new systems to enhance the Home Team s operations and effectiveness to keep us safe During a television feature about the Home Team Festival one of the MHA scientists shared about her work involving\n",
      "==========\n",
      "\u001b[1mHTX is transforming\u001b[0m the number of deployment locations across the island said Teo The selection of the new deployment locations is based on historical data Locations nearer to places with higher call loads will be given a higher priority which means we will deploy more ambulances to that area Before his posting to TFTD LCP NS Mahadhir was still exploring his career options It was during his stint with TFTD that he developed a keen interest in computer science He is now planning to pursue a degree in computer science after serving his full time National Service Engineering is gearing towards the use of automated systems and big data analysis Python and Excel are vital software skills to have if you want to pursue a career in Engineering or Computer Science Hence the skills and knowledge we learn here in TFTD help us to think like data scientists and prepare us well for our future pursuits in our studies and career development capabilities The Home Team keeps Singapore safe and secure Each of our 11 Home Team agencies has a specific role but we all share a common mission working together as one Home Team many of which is not only enforces but also helps Apart from investigation work CNB officers also administer a supervision programme which helps ex drug offenders stay clean and well For Mian Rong what motivates her is the daily opportunities to do impactful research that will lead to the development of new systems to enhance the Home Team s operations and effectiveness to keep us safe During a television feature about the Home Team Festival one of the MHA scientists shared about her work involving\n"
     ]
    }
   ],
   "source": [
    "ai.generate(n=5,\n",
    "            batch_size=5,\n",
    "            prompt=\"HTX is transforming\",\n",
    "            max_length=300,\n",
    "            temperature=1.0,\n",
    "            num_beams = 2, \n",
    "            repetition_penalty = 1.5,\n",
    "            no_repeat_ngram_size =4,\n",
    "            top_p=0.9)"
   ]
  },
  {
   "cell_type": "markdown",
   "id": "97b106fd-8fdb-44e5-86d9-b991ff252ff1",
   "metadata": {},
   "source": [
    "## What I noticed about the finetuned model\n",
    "- Finetuned on our own data, model does seem to learn information about QA systems and about HTX, however it produces a generative summary of the articles that were use for finetuning - by predicting the next word, model output doesnt seem to make that much sense because it is a mixture of speeches, newsreports, first person vs third person accounts that have been 'patch worked' together - seems to be somehow extractive in nature\n",
    "- Our training sample is quite small (less than 100 rows). Could increase this drastically to see if there is improvement \n"
   ]
  },
  {
   "cell_type": "code",
   "execution_count": null,
   "id": "065478e3-ea6e-4705-9273-8c891b86662c",
   "metadata": {},
   "outputs": [],
   "source": []
  }
 ],
 "metadata": {
  "kernelspec": {
   "display_name": "Python 3",
   "language": "python",
   "name": "python3"
  },
  "language_info": {
   "codemirror_mode": {
    "name": "ipython",
    "version": 3
   },
   "file_extension": ".py",
   "mimetype": "text/x-python",
   "name": "python",
   "nbconvert_exporter": "python",
   "pygments_lexer": "ipython3",
   "version": "3.9.4"
  }
 },
 "nbformat": 4,
 "nbformat_minor": 5
}
